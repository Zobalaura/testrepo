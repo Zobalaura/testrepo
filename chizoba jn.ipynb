{
  "metadata": {
    "kernelspec": {
      "name": "python",
      "display_name": "Pyolite",
      "language": "python"
    },
    "language_info": {
      "codemirror_mode": {
        "name": "python",
        "version": 3
      },
      "file_extension": ".py",
      "mimetype": "text/x-python",
      "name": "python",
      "nbconvert_exporter": "python",
      "pygments_lexer": "ipython3",
      "version": "3.8"
    }
  },
  "nbformat_minor": 4,
  "nbformat": 4,
  "cells": [
    {
      "cell_type": "markdown",
      "source": "<center>\n    <img src=\"https://s3-api.us-geo.objectstorage.softlayer.net/cf-courses-data/CognitiveClass/Logos/organization_logo/organization_logo.png\" width=\"300\" alt=\"cognitiveclass.ai logo\"  />\n</center>\n",
      "metadata": {}
    },
    {
      "cell_type": "markdown",
      "source": "#### Add your code below following the instructions given in the course\n",
      "metadata": {}
    },
    {
      "cell_type": "markdown",
      "source": "# My Jupyter Notebook on IBM Watson Studio",
      "metadata": {}
    },
    {
      "cell_type": "markdown",
      "source": "**chukwuemeka chizoba**\n### pharmacist",
      "metadata": {}
    },
    {
      "cell_type": "markdown",
      "source": "##### I am interested in data science because i love analysis and playing with data. Also, i want to apply the knowledge of data science to public health.",
      "metadata": {}
    },
    {
      "cell_type": "markdown",
      "source": "### multiplication",
      "metadata": {}
    },
    {
      "cell_type": "code",
      "source": "4*5",
      "metadata": {
        "trusted": true
      },
      "execution_count": 2,
      "outputs": [
        {
          "execution_count": 2,
          "output_type": "execute_result",
          "data": {
            "text/plain": "20"
          },
          "metadata": {}
        }
      ]
    },
    {
      "cell_type": "markdown",
      "source": "1.  pharmacology\n\n* toxicology\n+   receptors\n-   mechanism of action\n*   side effects\n\n2. pharmacognosy\n3. pharmaceutical chemistry\n4. pharmaceutics\n5. pharm technology \n\n- these are pharmacy related terminologies\n6. ~~biochemistry~~\n[I'm an inline-style link](https://www.google.com)\n\n\n\n",
      "metadata": {}
    },
    {
      "cell_type": "markdown",
      "source": "God is `good` and `faithful` all the time.\n\n| garri | is  | sweet |\n| ----:| ----:| ----:|\n| 2 | 4 | 6 |\n| do | go | more |\n\n> this blockquotes are really nice\n> it is good for email writing.\n\nquote break.\n\n> it is good that this feature is also available in markdown.\n\n3girls...\n\n---\n\nlindsey\n\n***\n\nmelvin\n\n___\n\njane\n",
      "metadata": {}
    },
    {
      "cell_type": "markdown",
      "source": "",
      "metadata": {}
    }
  ]
}